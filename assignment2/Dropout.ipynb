{
 "cells": [
  {
   "cell_type": "markdown",
   "metadata": {},
   "source": [
    "# Dropout\n",
    "Dropout [1] is a technique for regularizing neural networks by randomly setting some features to zero during the forward pass. In this exercise you will implement a dropout layer and modify your fully-connected network to optionally use dropout.\n",
    "\n",
    "[1] Geoffrey E. Hinton et al, \"Improving neural networks by preventing co-adaptation of feature detectors\", arXiv 2012"
   ]
  },
  {
   "cell_type": "code",
   "execution_count": 48,
   "metadata": {
    "collapsed": false
   },
   "outputs": [
    {
     "name": "stdout",
     "output_type": "stream",
     "text": [
      "The autoreload extension is already loaded. To reload it, use:\n",
      "  %reload_ext autoreload\n"
     ]
    }
   ],
   "source": [
    "# As usual, a bit of setup\n",
    "\n",
    "import time\n",
    "import numpy as np\n",
    "import matplotlib.pyplot as plt\n",
    "from cs231n.classifiers.fc_net import *\n",
    "from cs231n.data_utils import get_CIFAR10_data\n",
    "from cs231n.gradient_check import eval_numerical_gradient, eval_numerical_gradient_array\n",
    "from cs231n.solver import Solver\n",
    "\n",
    "%matplotlib inline\n",
    "plt.rcParams['figure.figsize'] = (10.0, 8.0) # set default size of plots\n",
    "plt.rcParams['image.interpolation'] = 'nearest'\n",
    "plt.rcParams['image.cmap'] = 'gray'\n",
    "\n",
    "# for auto-reloading external modules\n",
    "# see http://stackoverflow.com/questions/1907993/autoreload-of-modules-in-ipython\n",
    "%load_ext autoreload\n",
    "%autoreload 2\n",
    "\n",
    "def rel_error(x, y):\n",
    "  \"\"\" returns relative error \"\"\"\n",
    "  return np.max(np.abs(x - y) / (np.maximum(1e-8, np.abs(x) + np.abs(y))))"
   ]
  },
  {
   "cell_type": "code",
   "execution_count": 49,
   "metadata": {
    "collapsed": false
   },
   "outputs": [
    {
     "name": "stdout",
     "output_type": "stream",
     "text": [
      "X_val:  (1000, 3, 32, 32)\n",
      "X_train:  (49000, 3, 32, 32)\n",
      "X_test:  (1000, 3, 32, 32)\n",
      "y_val:  (1000,)\n",
      "y_train:  (49000,)\n",
      "y_test:  (1000,)\n"
     ]
    }
   ],
   "source": [
    "# Load the (preprocessed) CIFAR10 data.\n",
    "\n",
    "data = get_CIFAR10_data()\n",
    "for k, v in data.iteritems():\n",
    "  print '%s: ' % k, v.shape"
   ]
  },
  {
   "cell_type": "markdown",
   "metadata": {},
   "source": [
    "# Dropout forward pass\n",
    "In the file `cs231n/layers.py`, implement the forward pass for dropout. Since dropout behaves differently during training and testing, make sure to implement the operation for both modes.\n",
    "\n",
    "Once you have done so, run the cell below to test your implementation."
   ]
  },
  {
   "cell_type": "code",
   "execution_count": 54,
   "metadata": {
    "collapsed": false
   },
   "outputs": [
    {
     "name": "stdout",
     "output_type": "stream",
     "text": [
      "Running tests with p =  0.3\n",
      "Mean of input:  10.0025343824\n",
      "Mean of train-time output:  6.99344214787\n",
      "Mean of test-time output:  10.0025343824\n",
      "Fraction of train-time output set to zero:  0.300952\n",
      "Fraction of test-time output set to zero:  0.0\n",
      "\n",
      "Running tests with p =  0.6\n",
      "Mean of input:  10.0025343824\n",
      "Mean of train-time output:  4.00511354537\n",
      "Mean of test-time output:  10.0025343824\n",
      "Fraction of train-time output set to zero:  0.599484\n",
      "Fraction of test-time output set to zero:  0.0\n",
      "\n",
      "Running tests with p =  0.75\n",
      "Mean of input:  10.0025343824\n",
      "Mean of train-time output:  2.50787929851\n",
      "Mean of test-time output:  10.0025343824\n",
      "Fraction of train-time output set to zero:  0.7493\n",
      "Fraction of test-time output set to zero:  0.0\n",
      "\n"
     ]
    }
   ],
   "source": [
    "x = np.random.randn(500, 500) + 10\n",
    "\n",
    "for p in [0.3, 0.6, 0.75]:\n",
    "  out, _ = dropout_forward(x, {'mode': 'train', 'p': p})\n",
    "  out_test, _ = dropout_forward(x, {'mode': 'test', 'p': p})\n",
    "\n",
    "  print 'Running tests with p = ', p\n",
    "  print 'Mean of input: ', x.mean()\n",
    "  print 'Mean of train-time output: ', out.mean()\n",
    "  print 'Mean of test-time output: ', out_test.mean()\n",
    "  print 'Fraction of train-time output set to zero: ', (out == 0).mean()\n",
    "  print 'Fraction of test-time output set to zero: ', (out_test == 0).mean()\n",
    "  print"
   ]
  },
  {
   "cell_type": "markdown",
   "metadata": {},
   "source": [
    "# Dropout backward pass\n",
    "In the file `cs231n/layers.py`, implement the backward pass for dropout. After doing so, run the following cell to numerically gradient-check your implementation."
   ]
  },
  {
   "cell_type": "code",
   "execution_count": 59,
   "metadata": {
    "collapsed": false
   },
   "outputs": [
    {
     "name": "stdout",
     "output_type": "stream",
     "text": [
      "dx relative error:  1.89289439058e-11\n"
     ]
    }
   ],
   "source": [
    "x = np.random.randn(10, 10) + 10\n",
    "dout = np.random.randn(*x.shape)\n",
    "\n",
    "dropout_param = {'mode': 'train', 'p': 0.8, 'seed': 123}\n",
    "out, cache = dropout_forward(x, dropout_param)\n",
    "dx = dropout_backward(dout, cache)\n",
    "dx_num = eval_numerical_gradient_array(lambda xx: dropout_forward(xx, dropout_param)[0], x, dout)\n",
    "\n",
    "print 'dx relative error: ', rel_error(dx, dx_num)"
   ]
  },
  {
   "cell_type": "markdown",
   "metadata": {},
   "source": [
    "# Fully-connected nets with Dropout\n",
    "In the file `cs231n/classifiers/fc_net.py`, modify your implementation to use dropout. Specificially, if the constructor the the net receives a nonzero value for the `dropout` parameter, then the net should add dropout immediately after every ReLU nonlinearity. After doing so, run the following to numerically gradient-check your implementation."
   ]
  },
  {
   "cell_type": "code",
   "execution_count": 64,
   "metadata": {
    "collapsed": false
   },
   "outputs": [
    {
     "name": "stdout",
     "output_type": "stream",
     "text": [
      "Running check with dropout =  0\n",
      "Initial loss:  2.30258845705\n",
      "W1 relative error: 4.64e-06\n",
      "W2 relative error: 3.81e-06\n",
      "W3 relative error: 6.85e-08\n",
      "b1 relative error: 3.68e-07\n",
      "b2 relative error: 2.11e-08\n",
      "b3 relative error: 2.41e-10\n",
      "\n",
      "Running check with dropout =  0.25\n",
      "Initial loss:  2.30397663259\n",
      "W1 relative error: 8.92e-06\n",
      "W2 relative error: 2.66e-06\n",
      "W3 relative error: 1.02e-07\n",
      "b1 relative error: 7.69e-08\n",
      "b2 relative error: 3.77e-08\n",
      "b3 relative error: 1.66e-10\n",
      "\n",
      "Running check with dropout =  0.5\n",
      "Initial loss:  2.30337644221\n",
      "W1 relative error: 6.38e-07\n",
      "W2 relative error: 4.24e-07\n",
      "W3 relative error: 1.03e-06\n",
      "b1 relative error: 2.55e-09\n",
      "b2 relative error: 5.82e-09\n",
      "b3 relative error: 1.74e-10\n",
      "\n"
     ]
    }
   ],
   "source": [
    "N, D, H1, H2, C = 2, 15, 20, 30, 10\n",
    "X = np.random.randn(N, D)\n",
    "y = np.random.randint(C, size=(N,))\n",
    "\n",
    "for dropout in [0, 0.25, 0.5]:\n",
    "  print 'Running check with dropout = ', dropout\n",
    "  model = FullyConnectedNet([H1, H2], input_dim=D, num_classes=C,\n",
    "                            weight_scale=5e-2, dtype=np.float64,\n",
    "                            dropout=dropout, seed=123)\n",
    "\n",
    "  loss, grads = model.loss(X, y)\n",
    "  print 'Initial loss: ', loss\n",
    "\n",
    "  for name in sorted(grads):\n",
    "    f = lambda _: model.loss(X, y)[0]\n",
    "    grad_num = eval_numerical_gradient(f, model.params[name], verbose=False, h=1e-5)\n",
    "    print '%s relative error: %.2e' % (name, rel_error(grad_num, grads[name]))\n",
    "  print"
   ]
  },
  {
   "cell_type": "markdown",
   "metadata": {},
   "source": [
    "# Regularization experiment\n",
    "As an experiment, we will train a pair of two-layer networks on 500 training examples: one will use no dropout, and one will use a dropout probability of 0.75. We will then visualize the training and validation accuracies of the two networks over time."
   ]
  },
  {
   "cell_type": "code",
   "execution_count": 72,
   "metadata": {
    "collapsed": false,
    "scrolled": false
   },
   "outputs": [
    {
     "name": "stdout",
     "output_type": "stream",
     "text": [
      "0\n",
      "(Iteration 1 / 125) loss: 5.816200\n",
      "(Epoch 0 / 25) train acc: 0.162000; val_acc: 0.125000\n",
      "(Epoch 1 / 25) train acc: 0.318000; val_acc: 0.225000\n",
      "(Epoch 2 / 25) train acc: 0.286000; val_acc: 0.164000\n",
      "(Epoch 3 / 25) train acc: 0.242000; val_acc: 0.127000\n",
      "(Epoch 4 / 25) train acc: 0.242000; val_acc: 0.127000\n",
      "(Epoch 5 / 25) train acc: 0.234000; val_acc: 0.112000\n",
      "(Epoch 6 / 25) train acc: 0.236000; val_acc: 0.109000\n",
      "(Epoch 7 / 25) train acc: 0.244000; val_acc: 0.123000\n",
      "(Epoch 8 / 25) train acc: 0.248000; val_acc: 0.124000\n",
      "(Epoch 9 / 25) train acc: 0.246000; val_acc: 0.117000\n",
      "(Epoch 10 / 25) train acc: 0.250000; val_acc: 0.121000\n",
      "(Epoch 11 / 25) train acc: 0.252000; val_acc: 0.131000\n",
      "(Epoch 12 / 25) train acc: 0.254000; val_acc: 0.131000\n",
      "(Epoch 13 / 25) train acc: 0.254000; val_acc: 0.123000\n",
      "(Epoch 14 / 25) train acc: 0.256000; val_acc: 0.122000\n",
      "(Epoch 15 / 25) train acc: 0.254000; val_acc: 0.124000\n",
      "(Epoch 16 / 25) train acc: 0.254000; val_acc: 0.125000\n",
      "(Epoch 17 / 25) train acc: 0.254000; val_acc: 0.124000\n",
      "(Epoch 18 / 25) train acc: 0.254000; val_acc: 0.124000\n",
      "(Epoch 19 / 25) train acc: 0.254000; val_acc: 0.123000\n",
      "(Epoch 20 / 25) train acc: 0.254000; val_acc: 0.123000\n",
      "(Iteration 101 / 125) loss: 2.003330\n",
      "(Epoch 21 / 25) train acc: 0.254000; val_acc: 0.121000\n",
      "(Epoch 22 / 25) train acc: 0.254000; val_acc: 0.122000\n",
      "(Epoch 23 / 25) train acc: 0.254000; val_acc: 0.122000\n",
      "(Epoch 24 / 25) train acc: 0.254000; val_acc: 0.122000\n",
      "(Epoch 25 / 25) train acc: 0.254000; val_acc: 0.122000\n",
      "0.75\n",
      "(Iteration 1 / 125) loss: 3.251124\n",
      "(Epoch 0 / 25) train acc: 0.160000; val_acc: 0.169000\n",
      "(Epoch 1 / 25) train acc: 0.264000; val_acc: 0.194000\n",
      "(Epoch 2 / 25) train acc: 0.186000; val_acc: 0.137000\n",
      "(Epoch 3 / 25) train acc: 0.164000; val_acc: 0.110000\n",
      "(Epoch 4 / 25) train acc: 0.156000; val_acc: 0.102000\n",
      "(Epoch 5 / 25) train acc: 0.170000; val_acc: 0.109000\n",
      "(Epoch 6 / 25) train acc: 0.184000; val_acc: 0.121000\n",
      "(Epoch 7 / 25) train acc: 0.194000; val_acc: 0.123000\n",
      "(Epoch 8 / 25) train acc: 0.202000; val_acc: 0.125000\n",
      "(Epoch 9 / 25) train acc: 0.200000; val_acc: 0.120000\n",
      "(Epoch 10 / 25) train acc: 0.202000; val_acc: 0.119000\n",
      "(Epoch 11 / 25) train acc: 0.208000; val_acc: 0.119000\n",
      "(Epoch 12 / 25) train acc: 0.218000; val_acc: 0.122000\n",
      "(Epoch 13 / 25) train acc: 0.238000; val_acc: 0.126000\n",
      "(Epoch 14 / 25) train acc: 0.242000; val_acc: 0.122000\n",
      "(Epoch 15 / 25) train acc: 0.248000; val_acc: 0.123000\n",
      "(Epoch 16 / 25) train acc: 0.256000; val_acc: 0.127000\n",
      "(Epoch 17 / 25) train acc: 0.266000; val_acc: 0.129000\n",
      "(Epoch 18 / 25) train acc: 0.274000; val_acc: 0.133000\n",
      "(Epoch 19 / 25) train acc: 0.284000; val_acc: 0.137000\n",
      "(Epoch 20 / 25) train acc: 0.294000; val_acc: 0.138000\n",
      "(Iteration 101 / 125) loss: 2.026464\n",
      "(Epoch 21 / 25) train acc: 0.302000; val_acc: 0.142000\n",
      "(Epoch 22 / 25) train acc: 0.312000; val_acc: 0.146000\n",
      "(Epoch 23 / 25) train acc: 0.322000; val_acc: 0.154000\n",
      "(Epoch 24 / 25) train acc: 0.332000; val_acc: 0.157000\n",
      "(Epoch 25 / 25) train acc: 0.342000; val_acc: 0.160000\n"
     ]
    }
   ],
   "source": [
    "# Train two identical nets, one with dropout and one without\n",
    "\n",
    "num_train = 500\n",
    "small_data = {\n",
    "  'X_train': data['X_train'][:num_train],\n",
    "  'y_train': data['y_train'][:num_train],\n",
    "  'X_val': data['X_val'],\n",
    "  'y_val': data['y_val'],\n",
    "}\n",
    "\n",
    "solvers = {}\n",
    "dropout_choices = [0, 0.75]\n",
    "for dropout in dropout_choices:\n",
    "  model = FullyConnectedNet([500], dropout=dropout)\n",
    "  print dropout\n",
    "\n",
    "  solver = Solver(model, small_data,\n",
    "                  num_epochs=25, batch_size=100,\n",
    "                  update_rule='adam',\n",
    "                  optim_config={\n",
    "                    'learning_rate': 5e-5,\n",
    "                  },\n",
    "                  verbose=True, print_every=100)\n",
    "  solver.train()\n",
    "  solvers[dropout] = solver"
   ]
  },
  {
   "cell_type": "code",
   "execution_count": 71,
   "metadata": {
    "collapsed": false
   },
   "outputs": [
    {
     "data": {
      "image/png": "[encoded data removed]",
      "text/plain": [
       "<matplotlib.figure.Figure at 0x10e881590>"
      ]
     },
     "metadata": {},
     "output_type": "display_data"
    }
   ],
   "source": [
    "# Plot train and validation accuracies of the two models\n",
    "\n",
    "train_accs = []\n",
    "val_accs = []\n",
    "for dropout in dropout_choices:\n",
    "  solver = solvers[dropout]\n",
    "  train_accs.append(solver.train_acc_history[-1])\n",
    "  val_accs.append(solver.val_acc_history[-1])\n",
    "\n",
    "plt.subplot(3, 1, 1)\n",
    "for dropout in dropout_choices:\n",
    "  plt.plot(solvers[dropout].train_acc_history, 'o', label='%.2f dropout' % dropout)\n",
    "plt.title('Train accuracy')\n",
    "plt.xlabel('Epoch')\n",
    "plt.ylabel('Accuracy')\n",
    "plt.legend(ncol=2, loc='lower right')\n",
    "  \n",
    "plt.subplot(3, 1, 2)\n",
    "for dropout in dropout_choices:\n",
    "  plt.plot(solvers[dropout].val_acc_history, 'o', label='%.2f dropout' % dropout)\n",
    "plt.title('Val accuracy')\n",
    "plt.xlabel('Epoch')\n",
    "plt.ylabel('Accuracy')\n",
    "plt.legend(ncol=2, loc='lower right')\n",
    "\n",
    "plt.gcf().set_size_inches(15, 15)\n",
    "plt.show()"
   ]
  },
  {
   "cell_type": "markdown",
   "metadata": {},
   "source": [
    "# Question\n",
    "Explain what you see in this experiment. What does it suggest about dropout?"
   ]
  },
  {
   "cell_type": "markdown",
   "metadata": {},
   "source": [
    "# Answer\n"
   ]
  }
 ],
 "metadata": {
  "kernelspec": {
   "display_name": "Python 2",
   "language": "python",
   "name": "python2"
  },
  "language_info": {
   "codemirror_mode": {
    "name": "ipython",
    "version": 2
   },
   "file_extension": ".py",
   "mimetype": "text/x-python",
   "name": "python",
   "nbconvert_exporter": "python",
   "pygments_lexer": "ipython2",
   "version": "2.7.13"
  }
 },
 "nbformat": 4,
 "nbformat_minor": 0
}
